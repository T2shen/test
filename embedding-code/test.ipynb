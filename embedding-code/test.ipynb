{
 "cells": [
  {
   "cell_type": "code",
   "execution_count": 2,
   "metadata": {},
   "outputs": [
    {
     "name": "stdout",
     "output_type": "stream",
     "text": [
      "100%!finish!\r"
     ]
    }
   ],
   "source": [
    "#-*-coding:utf-8-*-\n",
    "import sys;\n",
    "total=10000\n",
    "for i in range(0,total):\n",
    "  percent=float(i)*100/float(total)\n",
    "  sys.stdout.write(\"%.2f%%\"%percent);\n",
    "  sys.stdout.write(\"\\r\");\n",
    "  sys.stdout.flush();\n",
    "sys.stdout.write(\"100%!finish!\\r\");\n",
    "sys.stdout.flush();"
   ]
  },
  {
   "cell_type": "code",
   "execution_count": null,
   "metadata": {},
   "outputs": [],
   "source": []
  }
 ],
 "metadata": {
  "kernelspec": {
   "display_name": "Python 3",
   "language": "python",
   "name": "python3"
  },
  "language_info": {
   "codemirror_mode": {
    "name": "ipython",
    "version": 3
   },
   "file_extension": ".py",
   "mimetype": "text/x-python",
   "name": "python",
   "nbconvert_exporter": "python",
   "pygments_lexer": "ipython3",
   "version": "3.5.2"
  }
 },
 "nbformat": 4,
 "nbformat_minor": 2
}
