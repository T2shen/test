{
 "cells": [
  {
   "cell_type": "code",
   "execution_count": null,
   "metadata": {},
   "outputs": [],
   "source": [
    "# -*- coding: utf-8 -*-\n",
    "import re\n",
    "corpus = []\n",
    "corpus2 = []\n",
    "l_id = []\n",
    "\n",
    "nnum = 0\n",
    "f1 = open('corpusALL.txt', 'r')\n",
    "for line in f1.readlines():\n",
    "    #print type(line)\n",
    "    #print line\n",
    "    corpus.append(line.strip())\n",
    "    line = line.replace('　','')\n",
    "    a = re.split(r'\\s+',line)\n",
    "    if a != []:\n",
    "        l_id.append(a[0])\n",
    "    #print a[0]\n",
    "    '''\n",
    "    for i in a:\n",
    "        i=i.decode('utf-8')\n",
    "        print [i]\n",
    "        print type(i),i,len(i)\n",
    "    '''\n",
    "    corpus2.append(a[0:-1])\n",
    "    nnum+=1\n",
    "print(nnum)\n",
    "f1.close()\n",
    "\n",
    "f = open('corpusALL.txt','w')\n",
    "f.write(str(nnum)+'\\n')\n",
    "num = 0\n",
    "for line in corpus2:\n",
    "    \n",
    "    for token in corpus[1:]:\n",
    "        f.write(str(token)+'')\n",
    "    f.write('\\n')\n",
    "    num=num+1\n",
    "print(num)\n",
    "f.close()"
   ]
  }
 ],
 "metadata": {
  "kernelspec": {
   "display_name": "Python 3",
   "language": "python",
   "name": "python3"
  },
  "language_info": {
   "codemirror_mode": {
    "name": "ipython",
    "version": 3
   },
   "file_extension": ".py",
   "mimetype": "text/x-python",
   "name": "python",
   "nbconvert_exporter": "python",
   "pygments_lexer": "ipython3",
   "version": "3.5.2"
  }
 },
 "nbformat": 4,
 "nbformat_minor": 2
}
