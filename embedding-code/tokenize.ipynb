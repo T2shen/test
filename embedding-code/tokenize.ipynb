{
 "cells": [
  {
   "cell_type": "code",
   "execution_count": 1,
   "metadata": {},
   "outputs": [],
   "source": [
    " # -*- coding: utf-8 -*-\n",
    "import re\n"
   ]
  },
  {
   "cell_type": "code",
   "execution_count": 8,
   "metadata": {},
   "outputs": [
    {
     "name": "stdout",
     "output_type": "stream",
     "text": [
      "end\n"
     ]
    }
   ],
   "source": [
    "f = open('corpusALL.txt','r')\n",
    "f2 = open('tokenizedALL.txt','w')\n",
    "i=0\n",
    "for line in f:\n",
    "    a = re.split(' ',line)\n",
    "    #print(a)\n",
    "    for token in line:\n",
    "        if token != ' ' and token != '\\u3000' and token != r'\\s+' and token != '':\n",
    "            f2.write(token)\n",
    "        if token != ' ' and token != '\\n' and token != '\\u3000' and token != r'\\s+' and token != '':\n",
    "            f2.write(' ')\n",
    "print('end')\n",
    "f2.close()             \n",
    "        "
   ]
  },
  {
   "cell_type": "code",
   "execution_count": null,
   "metadata": {},
   "outputs": [],
   "source": []
  }
 ],
 "metadata": {
  "kernelspec": {
   "display_name": "Python 3",
   "language": "python",
   "name": "python3"
  },
  "language_info": {
   "codemirror_mode": {
    "name": "ipython",
    "version": 3
   },
   "file_extension": ".py",
   "mimetype": "text/x-python",
   "name": "python",
   "nbconvert_exporter": "python",
   "pygments_lexer": "ipython3",
   "version": "3.5.2"
  }
 },
 "nbformat": 4,
 "nbformat_minor": 2
}
